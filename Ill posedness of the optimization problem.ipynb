{
 "cells": [
  {
   "cell_type": "markdown",
   "id": "20e4234c",
   "metadata": {},
   "source": [
    "$\\partial_{V_{xy}} \\sum_i \\sum_j \\left( \\text{tanh}\\left( \\sum_k V_{ik} W_{jk} \\right) - \\tilde B_{ij} \\right)^2 | \\tilde B_{ij} |$"
   ]
  },
  {
   "cell_type": "markdown",
   "id": "5f67e403",
   "metadata": {},
   "source": [
    "$\\sum_i \\sum_j \\partial_{V_{xy}}  \\left( \\text{tanh}\\left( \\sum_k V_{ik} W_{jk} \\right) - \\tilde B_{ij} \\right)^2 | \\tilde B_{ij} |$"
   ]
  },
  {
   "cell_type": "markdown",
   "id": "7a476954",
   "metadata": {},
   "source": [
    "$\\sum_i \\sum_j 2 \\left( \\text{tanh}\\left( \\sum_k V_{ik} W_{jk} \\right) - \\tilde B_{ij} \\right) \\left( \\partial_{V_{xy}} \\text{tanh}\\left( \\sum_k V_{ik} W_{jk} \\right) \\right) | \\tilde B_{ij} |$"
   ]
  },
  {
   "cell_type": "markdown",
   "id": "361d88e3",
   "metadata": {},
   "source": [
    "$\\sum_i \\sum_j 2 \\left( \\text{tanh}\\left( \\sum_k V_{ik} W_{jk} \\right) - \\tilde B_{ij} \\right) \\left( \\text{sech}^2\\left( \\sum_k V_{ik} W_{jk} \\right) \\left( \\partial_{V_{xy}} \\sum_{k'} V_{ik'} W_{jk'}   \\right)   \\right) | \\tilde B_{ij} |$ "
   ]
  },
  {
   "cell_type": "markdown",
   "id": "28a69ddf",
   "metadata": {},
   "source": [
    "$\\sum_i \\sum_j 2 \\left( \\text{tanh}\\left( \\sum_k V_{ik} W_{jk} \\right) - \\tilde B_{ij} \\right) \\left( \\text{sech}^2\\left( \\sum_k V_{ik} W_{jk} \\right) \\left( \\sum_{k'} \\partial_{V_{xy}}  V_{ik'} W_{jk'}   \\right)   \\right) | \\tilde B_{ij} |$ "
   ]
  },
  {
   "cell_type": "markdown",
   "id": "67133b73",
   "metadata": {},
   "source": [
    "$\\sum_i \\sum_j 2 \\left( \\text{tanh}\\left( \\sum_k V_{ik} W_{jk} \\right) - \\tilde B_{ij} \\right) \\left( \\text{sech}^2\\left( \\sum_k V_{ik} W_{jk} \\right) \\left( \\sum_{k'} \\delta_{xi} \\delta_{yk'} W_{jk'}   \\right)   \\right) | \\tilde B_{ij} |$ "
   ]
  },
  {
   "cell_type": "markdown",
   "id": "c865da02",
   "metadata": {},
   "source": [
    "$\\sum_i \\sum_j 2 \\left( \\text{tanh}\\left( \\sum_k V_{ik} W_{jk} \\right) - \\tilde B_{ij} \\right) \\left( \\text{sech}^2\\left( \\sum_k V_{ik} W_{jk} \\right) \\left( \\delta_{xi}  W_{jy}   \\right)   \\right) | \\tilde B_{ij} |$ "
   ]
  },
  {
   "cell_type": "markdown",
   "id": "d9939f7a",
   "metadata": {},
   "source": [
    "$\\sum_j 2 \\left( \\text{tanh}\\left( \\sum_k V_{xk} W_{jk} \\right) - \\tilde B_{xj} \\right) \\left( \\text{sech}^2\\left( \\sum_k V_{xk} W_{jk} \\right)  W_{jy} \\right) | \\tilde B_{xj} |$ "
   ]
  },
  {
   "cell_type": "markdown",
   "id": "f5efc5ec",
   "metadata": {},
   "source": [
    "$\\sum_j 2 \\left( \\text{tanh}\\left( VW^T \\right)- \\tilde B \\right)_{xj} \\left( \\text{sech}^2\\left(VW^T \\right)_{xj}  W_{jy} \\right) | \\tilde B_{xj} |$ "
   ]
  },
  {
   "cell_type": "markdown",
   "id": "52ff8420",
   "metadata": {},
   "source": [
    "$\\sum_j 2 \\left\\{ | \\tilde B | \\odot \\left(\n",
    "\\text{tanh}\\left( VW^T \\right)- \\tilde B\n",
    "\\right) \\odot \\text{sech}^2\\left(VW^T \\right)\n",
    "\\right\\}_{xj} \\left(  W_{jy} \\right) $ "
   ]
  },
  {
   "cell_type": "markdown",
   "id": "77c601b4",
   "metadata": {},
   "source": [
    "$ \\nabla_V \\mathcal L =  2 \\left\\{ | \\tilde B | \\odot \\left(\n",
    "\\text{tanh}\\left( VW^T \\right)- \\tilde B\n",
    "\\right) \\odot \\text{sech}^2\\left(VW^T \\right)\n",
    "\\right\\} W$"
   ]
  },
  {
   "cell_type": "markdown",
   "id": "efd1ec9a",
   "metadata": {},
   "source": [
    "# $\\nabla_W \\mathcal L$"
   ]
  },
  {
   "cell_type": "markdown",
   "id": "7c5694af",
   "metadata": {},
   "source": [
    "$\\partial_{W_{xy}} \\sum_i \\sum_j \\left( \\text{tanh}\\left( \\sum_k V_{ik} W_{jk} \\right) - \\tilde B_{ij} \\right)^2 | \\tilde B_{ij} |$"
   ]
  },
  {
   "cell_type": "markdown",
   "id": "2615684e",
   "metadata": {},
   "source": [
    "$\\sum_i \\sum_j \\partial_{W_{xy}}  \\left( \\text{tanh}\\left( \\sum_k V_{ik} W_{jk} \\right) - \\tilde B_{ij} \\right)^2 | \\tilde B_{ij} |$"
   ]
  },
  {
   "cell_type": "markdown",
   "id": "6cb63936",
   "metadata": {},
   "source": [
    "$\\sum_i \\sum_j 2 \\left( \\text{tanh}\\left( \\sum_k V_{ik} W_{jk} \\right) - \\tilde B_{ij} \\right) \\left( \\partial_{W_{xy}} \\text{tanh}\\left( \\sum_k V_{ik} W_{jk} \\right) \\right) | \\tilde B_{ij} |$"
   ]
  },
  {
   "cell_type": "markdown",
   "id": "fe82d07f",
   "metadata": {},
   "source": [
    "$\\sum_i \\sum_j 2 \\left( \\text{tanh}\\left( \\sum_k V_{ik} W_{jk} \\right) - \\tilde B_{ij} \\right) \\left( \\text{sech}^2\\left( \\sum_k V_{ik} W_{jk} \\right) \\left( \\partial_{W_{xy}} \\sum_{k'} V_{ik'} W_{jk'}   \\right)   \\right) | \\tilde B_{ij} |$ "
   ]
  },
  {
   "cell_type": "markdown",
   "id": "e50a4e14",
   "metadata": {},
   "source": [
    "$\\sum_i \\sum_j 2 \\left( \\text{tanh}\\left( \\sum_k V_{ik} W_{jk} \\right) - \\tilde B_{ij} \\right) \\left( \\text{sech}^2\\left( \\sum_k V_{ik} W_{jk} \\right) \\left( \\sum_{k'} \\delta_{xj} \\delta_{yk'} V_{ik'}   \\right)   \\right) | \\tilde B_{ij} |$ "
   ]
  },
  {
   "cell_type": "markdown",
   "id": "e02b91ea",
   "metadata": {},
   "source": [
    "$\\sum_i \\sum_j 2 \\left( \\text{tanh}\\left( \\sum_k V_{ik} W_{jk} \\right) - \\tilde B_{ij} \\right) \\left( \\text{sech}^2\\left( \\sum_k V_{ik} W_{jk} \\right) \\left( \\delta_{xj}  V_{iy}   \\right)   \\right) | \\tilde B_{ij} |$ "
   ]
  },
  {
   "cell_type": "markdown",
   "id": "8e4462b8",
   "metadata": {},
   "source": [
    "$\\sum_i  2 \\left( \\text{tanh}\\left( \\sum_k V_{ik} W_{xk} \\right) - \\tilde B_{ix} \\right) \\left( \\text{sech}^2\\left( \\sum_k V_{ik} W_{xk} \\right) \\left(  V_{iy}   \\right)   \\right) | \\tilde B_{ix} |$ "
   ]
  },
  {
   "cell_type": "markdown",
   "id": "aad2ae1f",
   "metadata": {},
   "source": [
    "$\\sum_i  2 \\left( \\text{tanh}\\left( VW^T \\right) - \\tilde B \\right)_{ix} \\left( \\text{sech}^2\\left( VW^T \\right)_{ix} \\left(  V_{iy}   \\right)   \\right) | \\tilde B_{ix} |$ "
   ]
  },
  {
   "cell_type": "markdown",
   "id": "d02bc5c4",
   "metadata": {},
   "source": [
    "$\\sum_i  2 \\left( \\text{tanh}\\left( VW^T \\right) - \\tilde B) \\odot \\text{sech}^2\\left( VW^T \\right) \\right)_{ix} \\left( \\left(  V_{iy}   \\right)   \\right) | \\tilde B_{ix} |$ "
   ]
  },
  {
   "cell_type": "markdown",
   "id": "323e3ab2",
   "metadata": {},
   "source": [
    "$\\sum_i  2 \\left( | \\tilde B| \\odot (\\text{tanh}\\left( VW^T \\right) - \\tilde B) \\odot \\text{sech}^2\\left( VW^T \\right) \\right)_{ix} \\left( \\left(  V_{iy}   \\right)   \\right) $ "
   ]
  },
  {
   "cell_type": "markdown",
   "id": "02784539",
   "metadata": {},
   "source": [
    "$ \\nabla_W \\mathcal L =  2 \\left\\{ | \\tilde B | \\odot \\left(\n",
    "\\text{tanh}\\left( VW^T \\right)- \\tilde B\n",
    "\\right) \\odot \\text{sech}^2\\left(VW^T \\right)\n",
    "\\right\\}^T V$"
   ]
  },
  {
   "cell_type": "markdown",
   "id": "9ae63c6c",
   "metadata": {},
   "source": [
    "### "
   ]
  },
  {
   "cell_type": "markdown",
   "id": "84f865f4",
   "metadata": {},
   "source": [
    "$({\\bf v}^TA{\\bf v})_i =\\\\\n",
    "= \\sum_j v_i A_{ij} v_j  \\\\\n",
    "= \\sum_j v_i \\left( -\\delta_{i,j-1} +2\\delta_{ij} - \\delta_{i,j+1} \\right) v_j  \\\\\n",
    "= - \\sum_{i=1}^{N-1} v_i v_{i+1} - \\sum_{i=2}^{N} v_i v_{i-1} + 2 \\sum_i^N v_i^2  \\\\\n",
    "= - 2 \\sum_{i=2}^{N} v_i v_{i-1} + 2 \\sum_i^N v_i^2  \\\\\n",
    "\\implies \\partial_{v_x} \\{ - 2 \\sum_{i=2}^{N} v_i v_{i-1} + 2 \\sum_i^N v_i^2 \\} \\\\\n",
    "= \\partial_{v_x} \\{ - 2 \\sum_{i=2}^{N} v_i v_{i-1} + 2 \\sum_i^N v_i^2 \\} \\\\\n",
    "=  \\{ - 2 \\sum_{i=2}^{N} \\partial_{v_x} \\left( v_i v_{i-1} \\right) + 2 \\sum_i^N \\partial_{v_x} v_i^2 \\} \\\\\n",
    "=  \\{ - 2 \\sum_{i=2}^{N}\\left( \\partial_{v_x} \\left( v_i \\right) v_{i-1}  + \\partial_{v_x} \\left( v_{i-1} \\right) v_{i} \\right) + 2 \\sum_i^N \\partial_{v_x} 2 v_i \\delta_{ix} \\} \\\\\n",
    "=  \\{ - 2 \\sum_{i=2}^{N}\\left( \\delta_{ix} v_{i-1}  + \\delta_{i-1,x} v_{i} \\right) + 2 \\sum_i^N \\partial_{v_x} 2 v_i \\delta_{ix} \\} \\\\\n",
    "=  -\\delta_{x > 0}2v_{x-1} - \\delta_{x<N}2 v_{x+1} + 4v_x \\\\\n",
    "$"
   ]
  },
  {
   "cell_type": "markdown",
   "id": "bd02346b",
   "metadata": {},
   "source": [
    "#### "
   ]
  }
 ],
 "metadata": {
  "kernelspec": {
   "display_name": "Python 3 (ipykernel)",
   "language": "python",
   "name": "python3"
  },
  "language_info": {
   "codemirror_mode": {
    "name": "ipython",
    "version": 3
   },
   "file_extension": ".py",
   "mimetype": "text/x-python",
   "name": "python",
   "nbconvert_exporter": "python",
   "pygments_lexer": "ipython3",
   "version": "3.9.7"
  }
 },
 "nbformat": 4,
 "nbformat_minor": 5
}
