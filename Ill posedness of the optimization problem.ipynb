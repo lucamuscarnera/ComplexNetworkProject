{
 "cells": [
  {
   "cell_type": "markdown",
   "id": "00f8267c",
   "metadata": {},
   "source": [
    "$\\partial_{V_{xy}} \\sum_i \\sum_j \\left( \\text{tanh}\\left( \\sum_k V_{ik} W_{jk} \\right) - \\tilde B_{ij} \\right)^2 | \\tilde B_{ij} |$"
   ]
  },
  {
   "cell_type": "markdown",
   "id": "4a33185f",
   "metadata": {},
   "source": [
    "$\\sum_i \\sum_j \\partial_{V_{xy}}  \\left( \\text{tanh}\\left( \\sum_k V_{ik} W_{jk} \\right) - \\tilde B_{ij} \\right)^2 | \\tilde B_{ij} |$"
   ]
  },
  {
   "cell_type": "markdown",
   "id": "4c3b90e3",
   "metadata": {},
   "source": [
    "$\\sum_i \\sum_j 2 \\left( \\text{tanh}\\left( \\sum_k V_{ik} W_{jk} \\right) - \\tilde B_{ij} \\right) \\left( \\partial_{V_{xy}} \\text{tanh}\\left( \\sum_k V_{ik} W_{jk} \\right) \\right) | \\tilde B_{ij} |$"
   ]
  },
  {
   "cell_type": "markdown",
   "id": "337cda6b",
   "metadata": {},
   "source": [
    "$\\sum_i \\sum_j 2 \\left( \\text{tanh}\\left( \\sum_k V_{ik} W_{jk} \\right) - \\tilde B_{ij} \\right) \\left( \\text{sech}^2\\left( \\sum_k V_{ik} W_{jk} \\right) \\left( \\partial_{V_{xy}} \\sum_{k'} V_{ik'} W_{jk'}   \\right)   \\right) | \\tilde B_{ij} |$ "
   ]
  },
  {
   "cell_type": "markdown",
   "id": "374265ae",
   "metadata": {},
   "source": [
    "$\\sum_i \\sum_j 2 \\left( \\text{tanh}\\left( \\sum_k V_{ik} W_{jk} \\right) - \\tilde B_{ij} \\right) \\left( \\text{sech}^2\\left( \\sum_k V_{ik} W_{jk} \\right) \\left( \\sum_{k'} \\partial_{V_{xy}}  V_{ik'} W_{jk'}   \\right)   \\right) | \\tilde B_{ij} |$ "
   ]
  },
  {
   "cell_type": "markdown",
   "id": "eab7946c",
   "metadata": {},
   "source": [
    "$\\sum_i \\sum_j 2 \\left( \\text{tanh}\\left( \\sum_k V_{ik} W_{jk} \\right) - \\tilde B_{ij} \\right) \\left( \\text{sech}^2\\left( \\sum_k V_{ik} W_{jk} \\right) \\left( \\sum_{k'} \\delta_{xi} \\delta_{yk'} W_{jk'}   \\right)   \\right) | \\tilde B_{ij} |$ "
   ]
  },
  {
   "cell_type": "markdown",
   "id": "8a46d66b",
   "metadata": {},
   "source": [
    "$\\sum_i \\sum_j 2 \\left( \\text{tanh}\\left( \\sum_k V_{ik} W_{jk} \\right) - \\tilde B_{ij} \\right) \\left( \\text{sech}^2\\left( \\sum_k V_{ik} W_{jk} \\right) \\left( \\delta_{xi}  W_{jy}   \\right)   \\right) | \\tilde B_{ij} |$ "
   ]
  },
  {
   "cell_type": "markdown",
   "id": "6397b79f",
   "metadata": {},
   "source": [
    "$\\sum_j 2 \\left( \\text{tanh}\\left( \\sum_k V_{xk} W_{jk} \\right) - \\tilde B_{xj} \\right) \\left( \\text{sech}^2\\left( \\sum_k V_{xk} W_{jk} \\right)  W_{jy} \\right) | \\tilde B_{xj} |$ "
   ]
  },
  {
   "cell_type": "markdown",
   "id": "46783465",
   "metadata": {},
   "source": [
    "$\\sum_j 2 \\left( \\text{tanh}\\left( VW^T \\right)- \\tilde B \\right)_{xj} \\left( \\text{sech}^2\\left(VW^T \\right)_{xj}  W_{jy} \\right) | \\tilde B_{xj} |$ "
   ]
  },
  {
   "cell_type": "markdown",
   "id": "c42abbb7",
   "metadata": {},
   "source": [
    "$\\sum_j 2 \\left\\{ | \\tilde B | \\odot \\left(\n",
    "\\text{tanh}\\left( VW^T \\right)- \\tilde B\n",
    "\\right) \\odot \\text{sech}^2\\left(VW^T \\right)\n",
    "\\right\\}_{xj} \\left(  W_{jy} \\right) $ "
   ]
  },
  {
   "cell_type": "markdown",
   "id": "8466aba0",
   "metadata": {},
   "source": [
    "$ \\nabla_V \\mathcal L =  2 \\left\\{ | \\tilde B | \\odot \\left(\n",
    "\\text{tanh}\\left( VW^T \\right)- \\tilde B\n",
    "\\right) \\odot \\text{sech}^2\\left(VW^T \\right)\n",
    "\\right\\} W$"
   ]
  },
  {
   "cell_type": "markdown",
   "id": "ea4d90bc",
   "metadata": {},
   "source": [
    "# $\\nabla_W \\mathcal L$"
   ]
  },
  {
   "cell_type": "markdown",
   "id": "89b0c751",
   "metadata": {},
   "source": [
    "$\\partial_{W_{xy}} \\sum_i \\sum_j \\left( \\text{tanh}\\left( \\sum_k V_{ik} W_{jk} \\right) - \\tilde B_{ij} \\right)^2 | \\tilde B_{ij} |$"
   ]
  },
  {
   "cell_type": "markdown",
   "id": "4dd141b2",
   "metadata": {},
   "source": [
    "$\\sum_i \\sum_j \\partial_{W_{xy}}  \\left( \\text{tanh}\\left( \\sum_k V_{ik} W_{jk} \\right) - \\tilde B_{ij} \\right)^2 | \\tilde B_{ij} |$"
   ]
  },
  {
   "cell_type": "markdown",
   "id": "0f1f7558",
   "metadata": {},
   "source": [
    "$\\sum_i \\sum_j 2 \\left( \\text{tanh}\\left( \\sum_k V_{ik} W_{jk} \\right) - \\tilde B_{ij} \\right) \\left( \\partial_{W_{xy}} \\text{tanh}\\left( \\sum_k V_{ik} W_{jk} \\right) \\right) | \\tilde B_{ij} |$"
   ]
  },
  {
   "cell_type": "markdown",
   "id": "845f3248",
   "metadata": {},
   "source": [
    "$\\sum_i \\sum_j 2 \\left( \\text{tanh}\\left( \\sum_k V_{ik} W_{jk} \\right) - \\tilde B_{ij} \\right) \\left( \\text{sech}^2\\left( \\sum_k V_{ik} W_{jk} \\right) \\left( \\partial_{W_{xy}} \\sum_{k'} V_{ik'} W_{jk'}   \\right)   \\right) | \\tilde B_{ij} |$ "
   ]
  },
  {
   "cell_type": "markdown",
   "id": "98fee972",
   "metadata": {},
   "source": [
    "$\\sum_i \\sum_j 2 \\left( \\text{tanh}\\left( \\sum_k V_{ik} W_{jk} \\right) - \\tilde B_{ij} \\right) \\left( \\text{sech}^2\\left( \\sum_k V_{ik} W_{jk} \\right) \\left( \\sum_{k'} \\delta_{xj} \\delta_{yk'} V_{ik'}   \\right)   \\right) | \\tilde B_{ij} |$ "
   ]
  },
  {
   "cell_type": "markdown",
   "id": "daadc8e6",
   "metadata": {},
   "source": [
    "$\\sum_i \\sum_j 2 \\left( \\text{tanh}\\left( \\sum_k V_{ik} W_{jk} \\right) - \\tilde B_{ij} \\right) \\left( \\text{sech}^2\\left( \\sum_k V_{ik} W_{jk} \\right) \\left( \\delta_{xj}  V_{iy}   \\right)   \\right) | \\tilde B_{ij} |$ "
   ]
  },
  {
   "cell_type": "markdown",
   "id": "ad60be2b",
   "metadata": {},
   "source": [
    "$\\sum_i  2 \\left( \\text{tanh}\\left( \\sum_k V_{ik} W_{xk} \\right) - \\tilde B_{ix} \\right) \\left( \\text{sech}^2\\left( \\sum_k V_{ik} W_{xk} \\right) \\left(  V_{iy}   \\right)   \\right) | \\tilde B_{ix} |$ "
   ]
  },
  {
   "cell_type": "markdown",
   "id": "e5d4db2d",
   "metadata": {},
   "source": [
    "$\\sum_i  2 \\left( \\text{tanh}\\left( VW^T \\right) - \\tilde B \\right)_{ix} \\left( \\text{sech}^2\\left( VW^T \\right)_{ix} \\left(  V_{iy}   \\right)   \\right) | \\tilde B_{ix} |$ "
   ]
  },
  {
   "cell_type": "markdown",
   "id": "e4f36a38",
   "metadata": {},
   "source": [
    "$\\sum_i  2 \\left( \\text{tanh}\\left( VW^T \\right) - \\tilde B) \\odot \\text{sech}^2\\left( VW^T \\right) \\right)_{ix} \\left( \\left(  V_{iy}   \\right)   \\right) | \\tilde B_{ix} |$ "
   ]
  },
  {
   "cell_type": "markdown",
   "id": "8eb12ab3",
   "metadata": {},
   "source": [
    "$\\sum_i  2 \\left( | \\tilde B| \\odot (\\text{tanh}\\left( VW^T \\right) - \\tilde B) \\odot \\text{sech}^2\\left( VW^T \\right) \\right)_{ix} \\left( \\left(  V_{iy}   \\right)   \\right) $ "
   ]
  },
  {
   "cell_type": "markdown",
   "id": "261d7361",
   "metadata": {},
   "source": [
    "$ \\nabla_W \\mathcal L =  2 \\left\\{ | \\tilde B | \\odot \\left(\n",
    "\\text{tanh}\\left( VW^T \\right)- \\tilde B\n",
    "\\right) \\odot \\text{sech}^2\\left(VW^T \\right)\n",
    "\\right\\}^T V$"
   ]
  },
  {
   "cell_type": "code",
   "execution_count": null,
   "id": "8b9b6d26",
   "metadata": {},
   "outputs": [],
   "source": []
  }
 ],
 "metadata": {
  "kernelspec": {
   "display_name": "Python 3 (ipykernel)",
   "language": "python",
   "name": "python3"
  },
  "language_info": {
   "codemirror_mode": {
    "name": "ipython",
    "version": 3
   },
   "file_extension": ".py",
   "mimetype": "text/x-python",
   "name": "python",
   "nbconvert_exporter": "python",
   "pygments_lexer": "ipython3",
   "version": "3.9.7"
  }
 },
 "nbformat": 4,
 "nbformat_minor": 5
}
